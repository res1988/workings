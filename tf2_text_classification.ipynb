{
  "nbformat": 4,
  "nbformat_minor": 0,
  "metadata": {
    "colab": {
      "name": "tf2-text-classification.ipynb",
      "version": "0.3.2",
      "provenance": [],
      "include_colab_link": true
    },
    "kernelspec": {
      "name": "python3",
      "display_name": "Python 3"
    }
  },
  "cells": [
    {
      "cell_type": "markdown",
      "metadata": {
        "id": "view-in-github",
        "colab_type": "text"
      },
      "source": [
        "<a href=\"https://colab.research.google.com/github/res1988/workings/blob/master/tf2_text_classification.ipynb\" target=\"_parent\"><img src=\"https://colab.research.google.com/assets/colab-badge.svg\" alt=\"Open In Colab\"/></a>"
      ]
    },
    {
      "cell_type": "code",
      "metadata": {
        "id": "-g34QLhKq_CF",
        "colab_type": "code",
        "colab": {
          "base_uri": "https://localhost:8080/",
          "height": 382
        },
        "outputId": "4d869a15-deed-44bf-e8f2-40ce87450461"
      },
      "source": [
        "from __future__ import absolute_import, division, print_function, unicode_literals\n",
        "\n",
        "!pip install tf-nightly-2.0-preview\n",
        "import tensorflow as tf\n",
        "from tensorflow import keras\n",
        "\n",
        "import numpy as np\n",
        "\n",
        "print(tf.__version__)"
      ],
      "execution_count": 1,
      "outputs": [
        {
          "output_type": "stream",
          "text": [
            "Requirement already satisfied: tf-nightly-2.0-preview in /usr/local/lib/python3.6/dist-packages (2.0.0.dev20190511)\n",
            "Requirement already satisfied: tensorflow-estimator-2.0-preview in /usr/local/lib/python3.6/dist-packages (from tf-nightly-2.0-preview) (1.14.0.dev2019051100)\n",
            "Requirement already satisfied: absl-py>=0.7.0 in /usr/local/lib/python3.6/dist-packages (from tf-nightly-2.0-preview) (0.7.1)\n",
            "Requirement already satisfied: tb-nightly<1.15.0a0,>=1.14.0a0 in /usr/local/lib/python3.6/dist-packages (from tf-nightly-2.0-preview) (1.14.0a20190511)\n",
            "Requirement already satisfied: google-pasta>=0.1.6 in /usr/local/lib/python3.6/dist-packages (from tf-nightly-2.0-preview) (0.1.6)\n",
            "Requirement already satisfied: keras-preprocessing>=1.0.5 in /usr/local/lib/python3.6/dist-packages (from tf-nightly-2.0-preview) (1.0.9)\n",
            "Requirement already satisfied: protobuf>=3.6.1 in /usr/local/lib/python3.6/dist-packages (from tf-nightly-2.0-preview) (3.7.1)\n",
            "Requirement already satisfied: wheel>=0.26 in /usr/local/lib/python3.6/dist-packages (from tf-nightly-2.0-preview) (0.33.1)\n",
            "Requirement already satisfied: six>=1.10.0 in /usr/local/lib/python3.6/dist-packages (from tf-nightly-2.0-preview) (1.12.0)\n",
            "Requirement already satisfied: keras-applications>=1.0.6 in /usr/local/lib/python3.6/dist-packages (from tf-nightly-2.0-preview) (1.0.7)\n",
            "Requirement already satisfied: grpcio>=1.8.6 in /usr/local/lib/python3.6/dist-packages (from tf-nightly-2.0-preview) (1.15.0)\n",
            "Requirement already satisfied: termcolor>=1.1.0 in /usr/local/lib/python3.6/dist-packages (from tf-nightly-2.0-preview) (1.1.0)\n",
            "Requirement already satisfied: astor>=0.6.0 in /usr/local/lib/python3.6/dist-packages (from tf-nightly-2.0-preview) (0.7.1)\n",
            "Requirement already satisfied: gast>=0.2.0 in /usr/local/lib/python3.6/dist-packages (from tf-nightly-2.0-preview) (0.2.2)\n",
            "Requirement already satisfied: numpy<2.0,>=1.14.5 in /usr/local/lib/python3.6/dist-packages (from tf-nightly-2.0-preview) (1.16.3)\n",
            "Requirement already satisfied: wrapt>=1.11.1 in /usr/local/lib/python3.6/dist-packages (from tf-nightly-2.0-preview) (1.11.1)\n",
            "Requirement already satisfied: werkzeug>=0.11.15 in /usr/local/lib/python3.6/dist-packages (from tb-nightly<1.15.0a0,>=1.14.0a0->tf-nightly-2.0-preview) (0.15.2)\n",
            "Requirement already satisfied: markdown>=2.6.8 in /usr/local/lib/python3.6/dist-packages (from tb-nightly<1.15.0a0,>=1.14.0a0->tf-nightly-2.0-preview) (3.1)\n",
            "Requirement already satisfied: setuptools in /usr/local/lib/python3.6/dist-packages (from protobuf>=3.6.1->tf-nightly-2.0-preview) (41.0.1)\n",
            "Requirement already satisfied: h5py in /usr/local/lib/python3.6/dist-packages (from keras-applications>=1.0.6->tf-nightly-2.0-preview) (2.8.0)\n",
            "2.0.0-dev20190511\n"
          ],
          "name": "stdout"
        }
      ]
    },
    {
      "cell_type": "code",
      "metadata": {
        "id": "y92wUJfrq_1a",
        "colab_type": "code",
        "colab": {}
      },
      "source": [
        "imdb = keras.datasets.imdb\n",
        "\n",
        "(train_data, train_labels), (test_data, test_labels) = imdb.load_data(num_words=10000)"
      ],
      "execution_count": 0,
      "outputs": []
    },
    {
      "cell_type": "code",
      "metadata": {
        "id": "u2C94WEjrCXl",
        "colab_type": "code",
        "colab": {
          "base_uri": "https://localhost:8080/",
          "height": 34
        },
        "outputId": "e187c0e3-0275-4e39-aec2-849c937e662b"
      },
      "source": [
        "print(\"Training entries: {}, labels: {}\".format(len(train_data), len(train_labels)))"
      ],
      "execution_count": 3,
      "outputs": [
        {
          "output_type": "stream",
          "text": [
            "Training entries: 25000, labels: 25000\n"
          ],
          "name": "stdout"
        }
      ]
    },
    {
      "cell_type": "code",
      "metadata": {
        "id": "RjjC-4U-rEpr",
        "colab_type": "code",
        "colab": {
          "base_uri": "https://localhost:8080/",
          "height": 54
        },
        "outputId": "49da7eaa-13da-4765-f36f-1ba6b5c97c7d"
      },
      "source": [
        "print(train_data[0])\n"
      ],
      "execution_count": 4,
      "outputs": [
        {
          "output_type": "stream",
          "text": [
            "[1, 14, 22, 16, 43, 530, 973, 1622, 1385, 65, 458, 4468, 66, 3941, 4, 173, 36, 256, 5, 25, 100, 43, 838, 112, 50, 670, 2, 9, 35, 480, 284, 5, 150, 4, 172, 112, 167, 2, 336, 385, 39, 4, 172, 4536, 1111, 17, 546, 38, 13, 447, 4, 192, 50, 16, 6, 147, 2025, 19, 14, 22, 4, 1920, 4613, 469, 4, 22, 71, 87, 12, 16, 43, 530, 38, 76, 15, 13, 1247, 4, 22, 17, 515, 17, 12, 16, 626, 18, 2, 5, 62, 386, 12, 8, 316, 8, 106, 5, 4, 2223, 5244, 16, 480, 66, 3785, 33, 4, 130, 12, 16, 38, 619, 5, 25, 124, 51, 36, 135, 48, 25, 1415, 33, 6, 22, 12, 215, 28, 77, 52, 5, 14, 407, 16, 82, 2, 8, 4, 107, 117, 5952, 15, 256, 4, 2, 7, 3766, 5, 723, 36, 71, 43, 530, 476, 26, 400, 317, 46, 7, 4, 2, 1029, 13, 104, 88, 4, 381, 15, 297, 98, 32, 2071, 56, 26, 141, 6, 194, 7486, 18, 4, 226, 22, 21, 134, 476, 26, 480, 5, 144, 30, 5535, 18, 51, 36, 28, 224, 92, 25, 104, 4, 226, 65, 16, 38, 1334, 88, 12, 16, 283, 5, 16, 4472, 113, 103, 32, 15, 16, 5345, 19, 178, 32]\n"
          ],
          "name": "stdout"
        }
      ]
    },
    {
      "cell_type": "code",
      "metadata": {
        "id": "4eCwP8PDrHkb",
        "colab_type": "code",
        "colab": {
          "base_uri": "https://localhost:8080/",
          "height": 34
        },
        "outputId": "a345eca4-c45f-490e-ff34-bf9d1b54f532"
      },
      "source": [
        "len(train_data[0]), len(train_data[1])"
      ],
      "execution_count": 5,
      "outputs": [
        {
          "output_type": "execute_result",
          "data": {
            "text/plain": [
              "(218, 189)"
            ]
          },
          "metadata": {
            "tags": []
          },
          "execution_count": 5
        }
      ]
    },
    {
      "cell_type": "code",
      "metadata": {
        "id": "V-HbkvUCrJ7U",
        "colab_type": "code",
        "colab": {}
      },
      "source": [
        "# A dictionary mapping words to an integer index\n",
        "word_index = imdb.get_word_index()\n",
        "\n",
        "# The first indices are reserved\n",
        "word_index = {k:(v+3) for k,v in word_index.items()}\n",
        "word_index[\"<PAD>\"] = 0\n",
        "word_index[\"<START>\"] = 1\n",
        "word_index[\"<UNK>\"] = 2  # unknown\n",
        "word_index[\"<UNUSED>\"] = 3\n",
        "\n",
        "reverse_word_index = dict([(value, key) for (key, value) in word_index.items()])\n",
        "\n",
        "def decode_review(text):\n",
        "    return ' '.join([reverse_word_index.get(i, '?') for i in text])"
      ],
      "execution_count": 0,
      "outputs": []
    },
    {
      "cell_type": "code",
      "metadata": {
        "id": "ZzPYpUpprLwN",
        "colab_type": "code",
        "colab": {
          "base_uri": "https://localhost:8080/",
          "height": 54
        },
        "outputId": "cae3216f-b6d4-430e-eb05-0e5902e5c499"
      },
      "source": [
        "decode_review(train_data[1])"
      ],
      "execution_count": 7,
      "outputs": [
        {
          "output_type": "execute_result",
          "data": {
            "text/plain": [
              "\"<START> big hair big boobs bad music and a giant safety pin these are the words to best describe this terrible movie i love cheesy horror movies and i've seen hundreds but this had got to be on of the worst ever made the plot is paper thin and ridiculous the acting is an abomination the script is completely laughable the best is the end showdown with the cop and how he worked out who the killer is it's just so damn terribly written the clothes are sickening and funny in equal <UNK> the hair is big lots of boobs <UNK> men wear those cut <UNK> shirts that show off their <UNK> sickening that men actually wore them and the music is just <UNK> trash that plays over and over again in almost every scene there is trashy music boobs and <UNK> taking away bodies and the gym still doesn't close for <UNK> all joking aside this is a truly bad film whose only charm is to look back on the disaster that was the 80's and have a good old laugh at how bad everything was back then\""
            ]
          },
          "metadata": {
            "tags": []
          },
          "execution_count": 7
        }
      ]
    },
    {
      "cell_type": "code",
      "metadata": {
        "id": "6_C0yUXRriLK",
        "colab_type": "code",
        "colab": {}
      },
      "source": [
        "train_data = keras.preprocessing.sequence.pad_sequences(train_data,\n",
        "                                                        value=word_index[\"<PAD>\"],\n",
        "                                                        padding='post',\n",
        "                                                        maxlen=256)\n",
        "\n",
        "test_data = keras.preprocessing.sequence.pad_sequences(test_data,\n",
        "                                                       value=word_index[\"<PAD>\"],\n",
        "                                                       padding='post',\n",
        "                                                       maxlen=256)"
      ],
      "execution_count": 0,
      "outputs": []
    },
    {
      "cell_type": "code",
      "metadata": {
        "id": "0cZzWKwwrkXw",
        "colab_type": "code",
        "colab": {
          "base_uri": "https://localhost:8080/",
          "height": 347
        },
        "outputId": "10634df1-d708-4812-bdf1-ff8a01b79bc1"
      },
      "source": [
        "len(train_data[0]), len(train_data[1])\n",
        "print(train_data[0])"
      ],
      "execution_count": 9,
      "outputs": [
        {
          "output_type": "stream",
          "text": [
            "[   1   14   22   16   43  530  973 1622 1385   65  458 4468   66 3941\n",
            "    4  173   36  256    5   25  100   43  838  112   50  670    2    9\n",
            "   35  480  284    5  150    4  172  112  167    2  336  385   39    4\n",
            "  172 4536 1111   17  546   38   13  447    4  192   50   16    6  147\n",
            " 2025   19   14   22    4 1920 4613  469    4   22   71   87   12   16\n",
            "   43  530   38   76   15   13 1247    4   22   17  515   17   12   16\n",
            "  626   18    2    5   62  386   12    8  316    8  106    5    4 2223\n",
            " 5244   16  480   66 3785   33    4  130   12   16   38  619    5   25\n",
            "  124   51   36  135   48   25 1415   33    6   22   12  215   28   77\n",
            "   52    5   14  407   16   82    2    8    4  107  117 5952   15  256\n",
            "    4    2    7 3766    5  723   36   71   43  530  476   26  400  317\n",
            "   46    7    4    2 1029   13  104   88    4  381   15  297   98   32\n",
            " 2071   56   26  141    6  194 7486   18    4  226   22   21  134  476\n",
            "   26  480    5  144   30 5535   18   51   36   28  224   92   25  104\n",
            "    4  226   65   16   38 1334   88   12   16  283    5   16 4472  113\n",
            "  103   32   15   16 5345   19  178   32    0    0    0    0    0    0\n",
            "    0    0    0    0    0    0    0    0    0    0    0    0    0    0\n",
            "    0    0    0    0    0    0    0    0    0    0    0    0    0    0\n",
            "    0    0    0    0]\n"
          ],
          "name": "stdout"
        }
      ]
    },
    {
      "cell_type": "code",
      "metadata": {
        "id": "0WZHSNZwroOV",
        "colab_type": "code",
        "colab": {
          "base_uri": "https://localhost:8080/",
          "height": 295
        },
        "outputId": "112562c5-18cd-4997-f0b8-318c1423bfaf"
      },
      "source": [
        "# input shape is the vocabulary count used for the movie reviews (10,000 words)\n",
        "vocab_size = 10000\n",
        "\n",
        "model = keras.Sequential()\n",
        "model.add(keras.layers.Embedding(vocab_size, 16))\n",
        "model.add(keras.layers.GlobalAveragePooling1D())\n",
        "model.add(keras.layers.Dense(16, activation='relu'))\n",
        "model.add(keras.layers.Dense(1, activation='sigmoid'))\n",
        "\n",
        "model.summary()\n",
        "\n",
        "model.compile(optimizer='adam',\n",
        "              loss='binary_crossentropy',\n",
        "              metrics=['accuracy'])"
      ],
      "execution_count": 11,
      "outputs": [
        {
          "output_type": "stream",
          "text": [
            "Model: \"sequential_1\"\n",
            "_________________________________________________________________\n",
            "Layer (type)                 Output Shape              Param #   \n",
            "=================================================================\n",
            "embedding_1 (Embedding)      (None, None, 16)          160000    \n",
            "_________________________________________________________________\n",
            "global_average_pooling1d_1 ( (None, 16)                0         \n",
            "_________________________________________________________________\n",
            "dense_2 (Dense)              (None, 16)                272       \n",
            "_________________________________________________________________\n",
            "dense_3 (Dense)              (None, 1)                 17        \n",
            "=================================================================\n",
            "Total params: 160,289\n",
            "Trainable params: 160,289\n",
            "Non-trainable params: 0\n",
            "_________________________________________________________________\n"
          ],
          "name": "stdout"
        }
      ]
    },
    {
      "cell_type": "code",
      "metadata": {
        "id": "gpwLxwh3rqfZ",
        "colab_type": "code",
        "colab": {}
      },
      "source": [
        "x_val = train_data[:10000]\n",
        "partial_x_train = train_data[10000:]\n",
        "\n",
        "y_val = train_labels[:10000]\n",
        "partial_y_train = train_labels[10000:]"
      ],
      "execution_count": 0,
      "outputs": []
    },
    {
      "cell_type": "code",
      "metadata": {
        "id": "L7Q-bhY-rwfK",
        "colab_type": "code",
        "colab": {
          "base_uri": "https://localhost:8080/",
          "height": 1424
        },
        "outputId": "1cc63132-1ff3-4146-9360-55841ad0dcd8"
      },
      "source": [
        "history = model.fit(partial_x_train,\n",
        "                    partial_y_train,\n",
        "                    epochs=40,\n",
        "                    batch_size=512,\n",
        "                    validation_data=(x_val, y_val),\n",
        "                    verbose=1)"
      ],
      "execution_count": 13,
      "outputs": [
        {
          "output_type": "stream",
          "text": [
            "Train on 15000 samples, validate on 10000 samples\n",
            "Epoch 1/40\n",
            "15000/15000 [==============================] - 1s 86us/sample - loss: 0.6917 - accuracy: 0.6265 - val_loss: 0.6895 - val_accuracy: 0.7249\n",
            "Epoch 2/40\n",
            "15000/15000 [==============================] - 1s 62us/sample - loss: 0.6858 - accuracy: 0.7438 - val_loss: 0.6819 - val_accuracy: 0.7409\n",
            "Epoch 3/40\n",
            "15000/15000 [==============================] - 1s 61us/sample - loss: 0.6741 - accuracy: 0.7547 - val_loss: 0.6674 - val_accuracy: 0.7457\n",
            "Epoch 4/40\n",
            "15000/15000 [==============================] - 1s 61us/sample - loss: 0.6545 - accuracy: 0.7701 - val_loss: 0.6452 - val_accuracy: 0.7454\n",
            "Epoch 5/40\n",
            "15000/15000 [==============================] - 1s 61us/sample - loss: 0.6262 - accuracy: 0.7869 - val_loss: 0.6158 - val_accuracy: 0.7717\n",
            "Epoch 6/40\n",
            "15000/15000 [==============================] - 1s 60us/sample - loss: 0.5906 - accuracy: 0.8067 - val_loss: 0.5810 - val_accuracy: 0.7999\n",
            "Epoch 7/40\n",
            "15000/15000 [==============================] - 1s 61us/sample - loss: 0.5500 - accuracy: 0.8229 - val_loss: 0.5424 - val_accuracy: 0.8112\n",
            "Epoch 8/40\n",
            "15000/15000 [==============================] - 1s 62us/sample - loss: 0.5079 - accuracy: 0.8395 - val_loss: 0.5051 - val_accuracy: 0.8246\n",
            "Epoch 9/40\n",
            "15000/15000 [==============================] - 1s 60us/sample - loss: 0.4669 - accuracy: 0.8539 - val_loss: 0.4695 - val_accuracy: 0.8368\n",
            "Epoch 10/40\n",
            "15000/15000 [==============================] - 1s 61us/sample - loss: 0.4290 - accuracy: 0.8668 - val_loss: 0.4385 - val_accuracy: 0.8445\n",
            "Epoch 11/40\n",
            "15000/15000 [==============================] - 1s 61us/sample - loss: 0.3957 - accuracy: 0.8748 - val_loss: 0.4116 - val_accuracy: 0.8546\n",
            "Epoch 12/40\n",
            "15000/15000 [==============================] - 1s 61us/sample - loss: 0.3666 - accuracy: 0.8837 - val_loss: 0.3901 - val_accuracy: 0.8563\n",
            "Epoch 13/40\n",
            "15000/15000 [==============================] - 1s 61us/sample - loss: 0.3424 - accuracy: 0.8895 - val_loss: 0.3705 - val_accuracy: 0.8633\n",
            "Epoch 14/40\n",
            "15000/15000 [==============================] - 1s 60us/sample - loss: 0.3203 - accuracy: 0.8953 - val_loss: 0.3558 - val_accuracy: 0.8667\n",
            "Epoch 15/40\n",
            "15000/15000 [==============================] - 1s 60us/sample - loss: 0.3019 - accuracy: 0.8989 - val_loss: 0.3433 - val_accuracy: 0.8699\n",
            "Epoch 16/40\n",
            "15000/15000 [==============================] - 1s 61us/sample - loss: 0.2854 - accuracy: 0.9041 - val_loss: 0.3329 - val_accuracy: 0.8728\n",
            "Epoch 17/40\n",
            "15000/15000 [==============================] - 1s 60us/sample - loss: 0.2703 - accuracy: 0.9092 - val_loss: 0.3240 - val_accuracy: 0.8742\n",
            "Epoch 18/40\n",
            "15000/15000 [==============================] - 1s 61us/sample - loss: 0.2570 - accuracy: 0.9129 - val_loss: 0.3162 - val_accuracy: 0.8775\n",
            "Epoch 19/40\n",
            "15000/15000 [==============================] - 1s 61us/sample - loss: 0.2450 - accuracy: 0.9171 - val_loss: 0.3096 - val_accuracy: 0.8786\n",
            "Epoch 20/40\n",
            "15000/15000 [==============================] - 1s 61us/sample - loss: 0.2341 - accuracy: 0.9204 - val_loss: 0.3049 - val_accuracy: 0.8797\n",
            "Epoch 21/40\n",
            "15000/15000 [==============================] - 1s 60us/sample - loss: 0.2235 - accuracy: 0.9242 - val_loss: 0.3006 - val_accuracy: 0.8789\n",
            "Epoch 22/40\n",
            "15000/15000 [==============================] - 1s 59us/sample - loss: 0.2144 - accuracy: 0.9262 - val_loss: 0.2966 - val_accuracy: 0.8830\n",
            "Epoch 23/40\n",
            "15000/15000 [==============================] - 1s 60us/sample - loss: 0.2052 - accuracy: 0.9303 - val_loss: 0.2943 - val_accuracy: 0.8809\n",
            "Epoch 24/40\n",
            "15000/15000 [==============================] - 1s 59us/sample - loss: 0.1972 - accuracy: 0.9337 - val_loss: 0.2911 - val_accuracy: 0.8826\n",
            "Epoch 25/40\n",
            "15000/15000 [==============================] - 1s 61us/sample - loss: 0.1891 - accuracy: 0.9379 - val_loss: 0.2887 - val_accuracy: 0.8843\n",
            "Epoch 26/40\n",
            "15000/15000 [==============================] - 1s 63us/sample - loss: 0.1819 - accuracy: 0.9409 - val_loss: 0.2879 - val_accuracy: 0.8833\n",
            "Epoch 27/40\n",
            "15000/15000 [==============================] - 1s 64us/sample - loss: 0.1751 - accuracy: 0.9435 - val_loss: 0.2865 - val_accuracy: 0.8840\n",
            "Epoch 28/40\n",
            "15000/15000 [==============================] - 1s 63us/sample - loss: 0.1685 - accuracy: 0.9465 - val_loss: 0.2853 - val_accuracy: 0.8841\n",
            "Epoch 29/40\n",
            "15000/15000 [==============================] - 1s 63us/sample - loss: 0.1629 - accuracy: 0.9489 - val_loss: 0.2862 - val_accuracy: 0.8839\n",
            "Epoch 30/40\n",
            "15000/15000 [==============================] - 1s 65us/sample - loss: 0.1570 - accuracy: 0.9515 - val_loss: 0.2847 - val_accuracy: 0.8852\n",
            "Epoch 31/40\n",
            "15000/15000 [==============================] - 1s 64us/sample - loss: 0.1510 - accuracy: 0.9546 - val_loss: 0.2847 - val_accuracy: 0.8855\n",
            "Epoch 32/40\n",
            "15000/15000 [==============================] - 1s 62us/sample - loss: 0.1455 - accuracy: 0.9563 - val_loss: 0.2852 - val_accuracy: 0.8861\n",
            "Epoch 33/40\n",
            "15000/15000 [==============================] - 1s 59us/sample - loss: 0.1403 - accuracy: 0.9579 - val_loss: 0.2864 - val_accuracy: 0.8850\n",
            "Epoch 34/40\n",
            "15000/15000 [==============================] - 1s 59us/sample - loss: 0.1356 - accuracy: 0.9605 - val_loss: 0.2871 - val_accuracy: 0.8861\n",
            "Epoch 35/40\n",
            "15000/15000 [==============================] - 1s 61us/sample - loss: 0.1314 - accuracy: 0.9613 - val_loss: 0.2887 - val_accuracy: 0.8855\n",
            "Epoch 36/40\n",
            "15000/15000 [==============================] - 1s 60us/sample - loss: 0.1266 - accuracy: 0.9641 - val_loss: 0.2898 - val_accuracy: 0.8858\n",
            "Epoch 37/40\n",
            "15000/15000 [==============================] - 1s 59us/sample - loss: 0.1222 - accuracy: 0.9661 - val_loss: 0.2912 - val_accuracy: 0.8853\n",
            "Epoch 38/40\n",
            "15000/15000 [==============================] - 1s 61us/sample - loss: 0.1181 - accuracy: 0.9669 - val_loss: 0.2935 - val_accuracy: 0.8837\n",
            "Epoch 39/40\n",
            "15000/15000 [==============================] - 1s 60us/sample - loss: 0.1146 - accuracy: 0.9680 - val_loss: 0.2954 - val_accuracy: 0.8837\n",
            "Epoch 40/40\n",
            "15000/15000 [==============================] - 1s 60us/sample - loss: 0.1105 - accuracy: 0.9706 - val_loss: 0.2970 - val_accuracy: 0.8838\n"
          ],
          "name": "stdout"
        }
      ]
    },
    {
      "cell_type": "code",
      "metadata": {
        "id": "ueeLFR2rryK_",
        "colab_type": "code",
        "colab": {
          "base_uri": "https://localhost:8080/",
          "height": 52
        },
        "outputId": "955e5a75-ab72-4ce6-e3fd-ad935fe26572"
      },
      "source": [
        "results = model.evaluate(test_data, test_labels)\n",
        "\n",
        "print(results)"
      ],
      "execution_count": 14,
      "outputs": [
        {
          "output_type": "stream",
          "text": [
            "25000/25000 [==============================] - 1s 37us/sample - loss: 0.3159 - accuracy: 0.8735\n",
            "[0.3159002343940735, 0.87348]\n"
          ],
          "name": "stdout"
        }
      ]
    },
    {
      "cell_type": "code",
      "metadata": {
        "id": "ZhyJGDMgr2MM",
        "colab_type": "code",
        "colab": {
          "base_uri": "https://localhost:8080/",
          "height": 34
        },
        "outputId": "39556e5c-cfbe-4efa-9c46-d4a865cbf544"
      },
      "source": [
        "history_dict = history.history\n",
        "history_dict.keys()"
      ],
      "execution_count": 15,
      "outputs": [
        {
          "output_type": "execute_result",
          "data": {
            "text/plain": [
              "dict_keys(['loss', 'accuracy', 'val_loss', 'val_accuracy'])"
            ]
          },
          "metadata": {
            "tags": []
          },
          "execution_count": 15
        }
      ]
    },
    {
      "cell_type": "code",
      "metadata": {
        "id": "mBYzElgdr3xM",
        "colab_type": "code",
        "colab": {
          "base_uri": "https://localhost:8080/",
          "height": 295
        },
        "outputId": "b71d9bfd-acca-4758-a13a-e6f5217d2968"
      },
      "source": [
        "import matplotlib.pyplot as plt\n",
        "\n",
        "acc = history_dict['accuracy']\n",
        "val_acc = history_dict['val_accuracy']\n",
        "loss = history_dict['loss']\n",
        "val_loss = history_dict['val_loss']\n",
        "\n",
        "epochs = range(1, len(acc) + 1)\n",
        "\n",
        "# \"bo\" is for \"blue dot\"\n",
        "plt.plot(epochs, loss, 'bo', label='Training loss')\n",
        "# b is for \"solid blue line\"\n",
        "plt.plot(epochs, val_loss, 'b', label='Validation loss')\n",
        "plt.title('Training and validation loss')\n",
        "plt.xlabel('Epochs')\n",
        "plt.ylabel('Loss')\n",
        "plt.legend()\n",
        "\n",
        "plt.show()"
      ],
      "execution_count": 16,
      "outputs": [
        {
          "output_type": "display_data",
          "data": {
            "image/png": "[encoded data removed]",
            "text/plain": [
              "<Figure size 432x288 with 1 Axes>"
            ]
          },
          "metadata": {
            "tags": []
          }
        }
      ]
    },
    {
      "cell_type": "code",
      "metadata": {
        "id": "_e6R57TZr4JR",
        "colab_type": "code",
        "colab": {
          "base_uri": "https://localhost:8080/",
          "height": 295
        },
        "outputId": "010a36a9-3f91-4994-c3ee-a7e2c0125637"
      },
      "source": [
        "plt.clf()   # clear figure\n",
        "\n",
        "plt.plot(epochs, acc, 'bo', label='Training acc')\n",
        "plt.plot(epochs, val_acc, 'b', label='Validation acc')\n",
        "plt.title('Training and validation accuracy')\n",
        "plt.xlabel('Epochs')\n",
        "plt.ylabel('Accuracy')\n",
        "plt.legend()\n",
        "\n",
        "plt.show()"
      ],
      "execution_count": 17,
      "outputs": [
        {
          "output_type": "display_data",
          "data": {
            "image/png": "[encoded data removed]",
            "text/plain": [
              "<Figure size 432x288 with 1 Axes>"
            ]
          },
          "metadata": {
            "tags": []
          }
        }
      ]
    },
    {
      "cell_type": "code",
      "metadata": {
        "id": "mLjeBrHxr55v",
        "colab_type": "code",
        "colab": {}
      },
      "source": [
        ""
      ],
      "execution_count": 0,
      "outputs": []
    }
  ]
}